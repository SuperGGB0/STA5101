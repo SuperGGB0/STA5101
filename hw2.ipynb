{
 "cells": [
  {
   "cell_type": "code",
   "execution_count": 65,
   "metadata": {},
   "outputs": [],
   "source": [
    "import networkx as nx\n",
    "import random\n",
    "from tqdm.notebook import tqdm\n",
    "import numpy as np\n",
    "import matplotlib.pyplot as plt"
   ]
  },
  {
   "cell_type": "code",
   "execution_count": 66,
   "metadata": {},
   "outputs": [],
   "source": [
    "def generate(n, r):\n",
    "    G = nx.Graph()\n",
    "\n",
    "    for u in range(1, n + 1):\n",
    "        G.add_node(u)\n",
    "\n",
    "    # 连接左右节点\n",
    "    for i in range(1, n + 1):\n",
    "        G.add_edge(i, i % n + 1)\n",
    "        G.add_edge(i, (i - 2) % n + 1)\n",
    "\n",
    "    # 连接长程边\n",
    "    for u in tqdm(range(1, n + 1), desc='Generating edges'):  # 添加进度条\n",
    "        prob = []\n",
    "        for v in range(1, n + 1):\n",
    "            distance = min((v - u) % n, (u - v) % n)\n",
    "            if distance==1 or distance==0:\n",
    "                prob.append(0)\n",
    "            else:\n",
    "                prob.append(distance ** (-r))\n",
    "                \n",
    "        total_prob = sum(prob)\n",
    "        prob = [p / total_prob for p in prob]  # 归一化概率分布\n",
    "\n",
    "        # 长程边的点\n",
    "        selected_indices = random.choices(range(len(prob)), prob, k=2)\n",
    "        \n",
    "        for a in range(2):\n",
    "            G.add_edge(u, selected_indices[a] + 1)  # 节点编号从 1 开始，因此需要加一\n",
    "\n",
    "    return G\n"
   ]
  },
  {
   "cell_type": "code",
   "execution_count": 12,
   "metadata": {},
   "outputs": [],
   "source": [
    "def generate(n, r):\n",
    "    G = nx.Graph()\n",
    "\n",
    "    for u in range(1, n + 1):\n",
    "        G.add_node(u)\n",
    "\n",
    "    # 连接左右节点\n",
    "    for i in range(1, n + 1):\n",
    "        G.add_edge(i, i % n + 1)\n",
    "        G.add_edge(i, (i - 2) % n + 1)\n",
    "\n",
    "    # 连接长程边\n",
    "    for u in tqdm(range(1, n + 1), desc='Generating edges'):  # 添加进度条\n",
    "        prob = []\n",
    "        for v in range(1, n + 1):\n",
    "            distance = min((v - u) % n, (u - v) % n)\n",
    "            if distance==1 or distance==0:\n",
    "                prob.append(0)\n",
    "            else:\n",
    "                prob.append(distance ** (-r))\n",
    "                \n",
    "        total_prob = sum(prob)\n",
    "        prob = [p / total_prob for p in prob]  # 归一化概率分布\n",
    "\n",
    "        # 长程边的点\n",
    "        selected_indices = random.choices(range(len(prob)), prob, k=3)[2]\n",
    "\n",
    "        G.add_edge(u, selected_indices+ 1)  # 节点编号从 1 开始，因此需要加一\n",
    "\n",
    "    return G\n"
   ]
  },
  {
   "cell_type": "code",
   "execution_count": 87,
   "metadata": {},
   "outputs": [],
   "source": [
    "def shortest_path(graph, start, end):\n",
    "    path_length = 0\n",
    "    current_vertex = start\n",
    "    n = len(graph)\n",
    "    visited = set()  # 用于记录已访问的节点\n",
    "    \n",
    "    while current_vertex != end:\n",
    "        neighbors = list(graph.neighbors(current_vertex))\n",
    "\n",
    "        # 过滤掉已经访问过的邻居节点\n",
    "        unvisited_neighbors = [neighbor for neighbor in neighbors if neighbor not in visited]\n",
    "        \n",
    "        # 计算当前节点到终点的距离\n",
    "        distances_to_end = {neighbor: min((neighbor - end) % n, (end - neighbor) % n) for neighbor in unvisited_neighbors}\n",
    "\n",
    "        # 选择离终点最近的未访问过的邻居节点作为下一个节点\n",
    "        next_vertex = min(distances_to_end, key=distances_to_end.get)\n",
    "        path_length += 1\n",
    "        current_vertex = next_vertex\n",
    "        \n",
    "        visited.add(current_vertex)\n",
    "    \n",
    "    return path_length\n",
    "\n",
    "\n",
    "def average_shortest_path_length(graph):\n",
    "    total_shortest_path_length = 0\n",
    "    total_pairs = 0\n",
    "    m = len(graph)\n",
    "    # 遍历所有节点对，但只处理节点对中第一个节点小于第二个节点的情况\n",
    "    for start_node in tqdm(range(1, m), desc='Average'):\n",
    "        for end_node in range(start_node + 1, m+1):\n",
    "            # 计算最短路径长度\n",
    "            shortest_path_length = shortest_path(graph, start_node, end_node)\n",
    "            total_shortest_path_length += shortest_path_length\n",
    "            total_pairs += 1\n",
    "    \n",
    "    average_length = total_shortest_path_length / total_pairs\n",
    "    return average_length\n"
   ]
  },
  {
   "cell_type": "code",
   "execution_count": 91,
   "metadata": {},
   "outputs": [
    {
     "data": {
      "application/vnd.jupyter.widget-view+json": {
       "model_id": "31a240d2c72844cd95668bdfef7a7d24",
       "version_major": 2,
       "version_minor": 0
      },
      "text/plain": [
       "Generating edges:   0%|          | 0/1000 [00:00<?, ?it/s]"
      ]
     },
     "metadata": {},
     "output_type": "display_data"
    },
    {
     "data": {
      "application/vnd.jupyter.widget-view+json": {
       "model_id": "869580e4f0a243aaa602b43d5a186334",
       "version_major": 2,
       "version_minor": 0
      },
      "text/plain": [
       "Average:   0%|          | 0/999 [00:00<?, ?it/s]"
      ]
     },
     "metadata": {},
     "output_type": "display_data"
    },
    {
     "name": "stdout",
     "output_type": "stream",
     "text": [
      "13.890394394394395\n"
     ]
    },
    {
     "data": {
      "application/vnd.jupyter.widget-view+json": {
       "model_id": "c2488d83a3f04812b56128dea00e9820",
       "version_major": 2,
       "version_minor": 0
      },
      "text/plain": [
       "Generating edges:   0%|          | 0/1000 [00:00<?, ?it/s]"
      ]
     },
     "metadata": {},
     "output_type": "display_data"
    },
    {
     "data": {
      "application/vnd.jupyter.widget-view+json": {
       "model_id": "dcc3f21d148f4418a7207726e904915a",
       "version_major": 2,
       "version_minor": 0
      },
      "text/plain": [
       "Average:   0%|          | 0/999 [00:00<?, ?it/s]"
      ]
     },
     "metadata": {},
     "output_type": "display_data"
    },
    {
     "name": "stdout",
     "output_type": "stream",
     "text": [
      "10.269777777777778\n"
     ]
    },
    {
     "data": {
      "application/vnd.jupyter.widget-view+json": {
       "model_id": "149daecb9c8549cd8ed8023d535e30d1",
       "version_major": 2,
       "version_minor": 0
      },
      "text/plain": [
       "Generating edges:   0%|          | 0/1000 [00:00<?, ?it/s]"
      ]
     },
     "metadata": {},
     "output_type": "display_data"
    },
    {
     "data": {
      "application/vnd.jupyter.widget-view+json": {
       "model_id": "4cbc9ee2e277457bad4715b87323f0fe",
       "version_major": 2,
       "version_minor": 0
      },
      "text/plain": [
       "Average:   0%|          | 0/999 [00:00<?, ?it/s]"
      ]
     },
     "metadata": {},
     "output_type": "display_data"
    },
    {
     "name": "stdout",
     "output_type": "stream",
     "text": [
      "9.272486486486487\n"
     ]
    },
    {
     "data": {
      "application/vnd.jupyter.widget-view+json": {
       "model_id": "5511cb17c778446782f9d469dbf0937b",
       "version_major": 2,
       "version_minor": 0
      },
      "text/plain": [
       "Generating edges:   0%|          | 0/1000 [00:00<?, ?it/s]"
      ]
     },
     "metadata": {},
     "output_type": "display_data"
    },
    {
     "data": {
      "application/vnd.jupyter.widget-view+json": {
       "model_id": "02790ef2fa4c4ddf8148c2e0b3a71928",
       "version_major": 2,
       "version_minor": 0
      },
      "text/plain": [
       "Average:   0%|          | 0/999 [00:00<?, ?it/s]"
      ]
     },
     "metadata": {},
     "output_type": "display_data"
    },
    {
     "name": "stdout",
     "output_type": "stream",
     "text": [
      "13.172894894894895\n"
     ]
    },
    {
     "data": {
      "application/vnd.jupyter.widget-view+json": {
       "model_id": "9ccfa31d55d641d48614cd0458df47f8",
       "version_major": 2,
       "version_minor": 0
      },
      "text/plain": [
       "Generating edges:   0%|          | 0/1000 [00:00<?, ?it/s]"
      ]
     },
     "metadata": {},
     "output_type": "display_data"
    },
    {
     "data": {
      "application/vnd.jupyter.widget-view+json": {
       "model_id": "782736edf5ec4fedb2bcc66b3ba05b33",
       "version_major": 2,
       "version_minor": 0
      },
      "text/plain": [
       "Average:   0%|          | 0/999 [00:00<?, ?it/s]"
      ]
     },
     "metadata": {},
     "output_type": "display_data"
    },
    {
     "name": "stdout",
     "output_type": "stream",
     "text": [
      "26.18304104104104\n"
     ]
    },
    {
     "data": {
      "application/vnd.jupyter.widget-view+json": {
       "model_id": "347fc860d999451194ba041630378fbe",
       "version_major": 2,
       "version_minor": 0
      },
      "text/plain": [
       "Generating edges:   0%|          | 0/1000 [00:00<?, ?it/s]"
      ]
     },
     "metadata": {},
     "output_type": "display_data"
    },
    {
     "data": {
      "application/vnd.jupyter.widget-view+json": {
       "model_id": "d3565172e1b549b3b380a4f4bf066dfa",
       "version_major": 2,
       "version_minor": 0
      },
      "text/plain": [
       "Average:   0%|          | 0/999 [00:00<?, ?it/s]"
      ]
     },
     "metadata": {},
     "output_type": "display_data"
    },
    {
     "name": "stdout",
     "output_type": "stream",
     "text": [
      "41.259721721721725\n"
     ]
    },
    {
     "data": {
      "application/vnd.jupyter.widget-view+json": {
       "model_id": "cfefb5490fc94155b9d53a283f61da33",
       "version_major": 2,
       "version_minor": 0
      },
      "text/plain": [
       "Generating edges:   0%|          | 0/1000 [00:00<?, ?it/s]"
      ]
     },
     "metadata": {},
     "output_type": "display_data"
    },
    {
     "data": {
      "application/vnd.jupyter.widget-view+json": {
       "model_id": "9e478eb2e2934a0c9f4d18a0a18c6ad5",
       "version_major": 2,
       "version_minor": 0
      },
      "text/plain": [
       "Average:   0%|          | 0/999 [00:00<?, ?it/s]"
      ]
     },
     "metadata": {},
     "output_type": "display_data"
    },
    {
     "name": "stdout",
     "output_type": "stream",
     "text": [
      "67.96057857857858\n"
     ]
    },
    {
     "data": {
      "application/vnd.jupyter.widget-view+json": {
       "model_id": "d2e84d33c59a47438ba81efc53938e31",
       "version_major": 2,
       "version_minor": 0
      },
      "text/plain": [
       "Generating edges:   0%|          | 0/1000 [00:00<?, ?it/s]"
      ]
     },
     "metadata": {},
     "output_type": "display_data"
    },
    {
     "data": {
      "application/vnd.jupyter.widget-view+json": {
       "model_id": "d0983031ab014f009f9357234a172998",
       "version_major": 2,
       "version_minor": 0
      },
      "text/plain": [
       "Average:   0%|          | 0/999 [00:00<?, ?it/s]"
      ]
     },
     "metadata": {},
     "output_type": "display_data"
    },
    {
     "name": "stdout",
     "output_type": "stream",
     "text": [
      "87.06034434434434\n"
     ]
    }
   ],
   "source": [
    "data =[]\n",
    "for m in np.arange(0,4.0,0.5):\n",
    "    f = generate(1000,m)\n",
    "    path = average_shortest_path_length(f)\n",
    "    print(path)\n",
    "    data.append(path)"
   ]
  },
  {
   "cell_type": "code",
   "execution_count": 92,
   "metadata": {},
   "outputs": [
    {
     "data": {
      "image/png": "[encoded data removed]",
      "text/plain": [
       "<Figure size 640x480 with 1 Axes>"
      ]
     },
     "metadata": {},
     "output_type": "display_data"
    }
   ],
   "source": [
    "x = np.arange(0, 4.0, 0.5)\n",
    "\n",
    "# 绘制折线图\n",
    "plt.plot(x, data,marker='o')\n",
    "plt.xlabel('r')\n",
    "plt.ylabel('Average Shortest Path Length')\n",
    "plt.title('Graph Size = 1000')\n",
    "plt.grid(True)"
   ]
  },
  {
   "cell_type": "code",
   "execution_count": null,
   "metadata": {},
   "outputs": [],
   "source": []
  }
 ],
 "metadata": {
  "kernelspec": {
   "display_name": "base",
   "language": "python",
   "name": "python3"
  },
  "language_info": {
   "codemirror_mode": {
    "name": "ipython",
    "version": 3
   },
   "file_extension": ".py",
   "mimetype": "text/x-python",
   "name": "python",
   "nbconvert_exporter": "python",
   "pygments_lexer": "ipython3",
   "version": "3.11.3"
  }
 },
 "nbformat": 4,
 "nbformat_minor": 2
}
